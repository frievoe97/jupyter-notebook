{
 "cells": [
  {
   "cell_type": "markdown",
   "metadata": {
    "slideshow": {
     "slide_type": "-"
    }
   },
   "source": [
    "# ML-Fundamentals - Lineare Regression - Exercise: Multivariate Linear Regression"
   ]
  },
  {
   "cell_type": "markdown",
   "metadata": {
    "slideshow": {
     "slide_type": "-"
    }
   },
   "source": [
    "## Table of Contents\n",
    "* [Introduction](#Introduction)\n",
    "* [Requirements](#Requirements) \n",
    "  * [Knowledge](#Knowledge) \n",
    "  * [Modules](#Python-Modules)\n",
    "* [Exercises - Multivariate Linear Regression](#Exercises---Multivariate-Linear-Regression)\n",
    "  * [Create Features](#Create-Features)\n",
    "  * [Linear Hypothesis](#Linear-Hypothesis)\n",
    "  * [Generate Target Values](#Generate-Target-Values)\n",
    "  * [Plot The Data](#Plot-The-Data)\n",
    "  * [Cost Function](#Cost-Function)\n",
    "  * [Gradient Descent](#Gradient-Descent)\n",
    "  * [Training and Evaluation](#Training-and-Evaluation)\n",
    "  * [Feature Scaling](#Feature-Scaling)\n",
    "* [Summary and Outlook](#Summary-and-Outlook)\n",
    "* [Literature](#Literature) \n",
    "* [Licenses](#Licenses)"
   ]
  },
  {
   "cell_type": "markdown",
   "metadata": {
    "slideshow": {
     "slide_type": "-"
    }
   },
   "source": [
    "## Introduction\n",
    "\n",
    "In this exercise you will implement the _multivariate linear regression_, a model with two or more predictors and one response variable (opposed to one predictor using univariate linear regression). The whole exercise consists of the following steps:\n",
    "\n",
    "1. Generate values for two predictors/features $(x_1, x_2)$\n",
    "2. Implement a linear function as hypothesis (model) \n",
    "3. Generate values for the response (Y / target values)\n",
    "4. Plot the $((x_1, x_2), y)$ values in a 3D plot.\n",
    "5. Write a function to quantify your model (cost function)\n",
    "6. Implement the gradient descent algorithm to train your model (optimizer) \n",
    "7. Visualize your training process and results\n",
    "8. Apply feature scaling (pen & paper)"
   ]
  },
  {
   "cell_type": "markdown",
   "metadata": {
    "slideshow": {
     "slide_type": "-"
    }
   },
   "source": [
    "## Requirements\n",
    "### Knowledge\n",
    "\n",
    "You should have a basic knowledge of:\n",
    "- Univariate linear regression\n",
    "- Multivariate linear regression\n",
    "- Squared error\n",
    "- Gradient descent\n",
    "- numpy\n",
    "- matplotlib\n",
    "\n",
    "Suitable sources for acquiring this knowledge are:\n",
    "- [Multivariate Linear Regression Notebook](http://christianherta.de/lehre/dataScience/machineLearning/basics/multivariate_linear_regression.php) by Christian Herta and his [lecture slides](http://christianherta.de/lehre/dataScience/machineLearning/multivariateLinearRegression.pdf) (German)\n",
    "- Chapter 2 of the open classroom [Machine Learning](http://openclassroom.stanford.edu/MainFolder/CoursePage.php?course=MachineLearning) by Andrew Ng\n",
    "- Chapter 5.1 of [Deep Learning](http://www.deeplearningbook.org/contents/ml.html) by Ian Goodfellow \n",
    "- Some parts of chapter 1 and 3 of [Pattern Recognition and Machine Learning](https://www.microsoft.com/en-us/research/people/cmbishop/#!prml-book) by Christopher M. Bishop\n",
    "- [numpy quickstart](https://docs.scipy.org/doc/numpy-1.15.1/user/quickstart.html)\n",
    "- [Matplotlib tutorials](https://matplotlib.org/tutorials/index.html)"
   ]
  },
  {
   "cell_type": "markdown",
   "metadata": {
    "slideshow": {
     "slide_type": "-"
    }
   },
   "source": [
    "### Python Modules\n",
    "\n",
    "By [deep.TEACHING](https://www.deep-teaching.org/) convention, all python modules needed to run the notebook are loaded centrally at the beginning. \n"
   ]
  },
  {
   "cell_type": "code",
   "execution_count": 124,
   "metadata": {
    "slideshow": {
     "slide_type": "-"
    }
   },
   "outputs": [],
   "source": [
    "%matplotlib inline\n",
    "# %matplotlib notebook # change to notebook if you want interact with the plotted graphs\n",
    "\n",
    "\n",
    "# External Modules\n",
    "import numpy as np\n",
    "import matplotlib.pyplot as plt\n",
    "from mpl_toolkits.mplot3d.axes3d import Axes3D\n",
    "from matplotlib import cm\n",
    "\n",
    "np.random.seed(585012)"
   ]
  },
  {
   "cell_type": "markdown",
   "metadata": {
    "slideshow": {
     "slide_type": "-"
    }
   },
   "source": [
    "## Exercise - Multivariate Linear Regression\n",
    "\n",
    "We will only use two features in this notebook, so we are still able to plot them together with the target in a 3D plot. But your implementation should also be capable of handling more (except the plots). "
   ]
  },
  {
   "cell_type": "markdown",
   "metadata": {
    "slideshow": {
     "slide_type": "-"
    }
   },
   "source": [
    "### Create Features\n",
    "\n",
    "First we will create some features. The features should be in a 2D numpy array, the rows separating the different feature vectors (training examples), the columns containing the features. Each feature should be **uniformly** distributed in a specifiable range.\n",
    "\n",
    "**Task:**\n",
    "\n",
    "Implement the function to generate a feature matrix (numpy array)."
   ]
  },
  {
   "cell_type": "code",
   "execution_count": 125,
   "metadata": {
    "slideshow": {
     "slide_type": "-"
    }
   },
   "outputs": [],
   "source": [
    "def create_feature_matrix(sample_size, n_features, x_min, x_max):\n",
    "    return np.random.uniform(low=x_min, high=x_max, size=(sample_size,n_features))"
   ]
  },
  {
   "cell_type": "code",
   "execution_count": 151,
   "metadata": {},
   "outputs": [
    {
     "data": {
      "text/plain": [
       "array([[ 1.00000000e+00,  9.14259316e+00,  4.94533293e-01],\n",
       "       [ 1.00000000e+00,  7.39501079e+00,  7.87355623e-01],\n",
       "       [ 1.00000000e+00,  9.83567468e+00, -2.01906804e-01],\n",
       "       [ 1.00000000e+00,  3.36001479e+00,  3.36845143e+00],\n",
       "       [ 1.00000000e+00,  8.27961774e+00, -2.72924134e-01],\n",
       "       [ 1.00000000e+00,  1.61988008e+00,  4.63036631e+00],\n",
       "       [ 1.00000000e+00,  9.10574912e+00,  7.35032920e-03],\n",
       "       [ 1.00000000e+00,  6.47765489e+00,  1.39530796e+00],\n",
       "       [ 1.00000000e+00,  9.45576364e+00,  3.99478607e+00],\n",
       "       [ 1.00000000e+00,  2.73588110e+00, -3.12899275e-01],\n",
       "       [ 1.00000000e+00,  8.02425074e+00,  2.13629112e+00],\n",
       "       [ 1.00000000e+00,  8.40819405e+00,  3.44007357e+00],\n",
       "       [ 1.00000000e+00,  1.09798421e+01,  4.78890274e+00],\n",
       "       [ 1.00000000e+00,  6.98017028e+00, -3.21479181e-01],\n",
       "       [ 1.00000000e+00,  1.58340373e+00,  1.67304959e+00],\n",
       "       [ 1.00000000e+00,  9.89306727e+00,  4.19227733e+00],\n",
       "       [ 1.00000000e+00,  7.44744609e+00,  3.01124142e+00],\n",
       "       [ 1.00000000e+00,  1.09195281e+01,  2.47620756e+00],\n",
       "       [ 1.00000000e+00,  1.04435839e+01,  2.98008650e-02],\n",
       "       [ 1.00000000e+00,  7.76661068e+00,  4.33623601e+00],\n",
       "       [ 1.00000000e+00,  9.02790524e+00,  2.83725841e-01],\n",
       "       [ 1.00000000e+00,  2.54608017e+00,  2.06456662e+00],\n",
       "       [ 1.00000000e+00,  7.80033649e+00,  4.25965893e+00],\n",
       "       [ 1.00000000e+00,  9.02218948e+00,  8.27747005e-01],\n",
       "       [ 1.00000000e+00,  3.30601663e+00,  1.11763629e+00],\n",
       "       [ 1.00000000e+00,  4.53887928e+00,  1.43673734e+00],\n",
       "       [ 1.00000000e+00,  7.75565516e+00,  3.42107367e+00],\n",
       "       [ 1.00000000e+00,  3.54004069e+00,  4.74758834e+00],\n",
       "       [ 1.00000000e+00,  4.52252590e+00,  3.24863926e+00],\n",
       "       [ 1.00000000e+00,  8.39387809e+00,  1.14104649e+00],\n",
       "       [ 1.00000000e+00,  5.55932513e+00,  2.21652354e+00],\n",
       "       [ 1.00000000e+00,  2.78451910e+00,  3.82781113e+00],\n",
       "       [ 1.00000000e+00,  6.92974359e+00,  4.87435809e+00],\n",
       "       [ 1.00000000e+00,  7.52412300e+00,  8.28206305e-01],\n",
       "       [ 1.00000000e+00,  4.26903244e+00,  8.50493211e-01],\n",
       "       [ 1.00000000e+00,  7.26928186e+00,  3.79981330e-01],\n",
       "       [ 1.00000000e+00,  1.68921341e+00,  2.96815698e+00],\n",
       "       [ 1.00000000e+00,  5.15221362e+00,  1.70189466e+00],\n",
       "       [ 1.00000000e+00,  5.26820921e+00,  3.86091712e+00],\n",
       "       [ 1.00000000e+00,  1.07766385e+01,  3.81013383e-01],\n",
       "       [ 1.00000000e+00,  5.11082998e+00,  4.23056647e+00],\n",
       "       [ 1.00000000e+00,  4.78973295e+00,  3.56906463e+00],\n",
       "       [ 1.00000000e+00,  3.39378689e+00,  3.64631947e-02],\n",
       "       [ 1.00000000e+00,  2.83714014e+00,  2.41598051e+00],\n",
       "       [ 1.00000000e+00,  1.53608438e+00, -3.57814782e-01],\n",
       "       [ 1.00000000e+00,  3.71155789e+00,  2.74824462e+00],\n",
       "       [ 1.00000000e+00,  8.15296366e+00,  3.80374993e+00],\n",
       "       [ 1.00000000e+00,  8.84639108e+00,  4.51633176e+00],\n",
       "       [ 1.00000000e+00,  7.57027676e+00, -2.38292346e-01],\n",
       "       [ 1.00000000e+00,  8.43070386e+00,  2.75535819e+00],\n",
       "       [ 1.00000000e+00,  6.53516101e+00,  1.85392020e-01],\n",
       "       [ 1.00000000e+00,  4.56242120e+00,  4.20913118e+00],\n",
       "       [ 1.00000000e+00,  3.59919531e+00,  4.23260471e+00],\n",
       "       [ 1.00000000e+00,  3.37894247e+00,  3.60261687e+00],\n",
       "       [ 1.00000000e+00,  8.36700987e+00,  3.57710003e+00],\n",
       "       [ 1.00000000e+00,  1.09515057e+01,  4.54118660e+00],\n",
       "       [ 1.00000000e+00,  3.75978751e+00,  9.69376627e-01],\n",
       "       [ 1.00000000e+00,  3.48990523e+00,  2.82410224e+00],\n",
       "       [ 1.00000000e+00,  7.53207693e+00,  4.17861553e+00],\n",
       "       [ 1.00000000e+00,  5.19614457e+00,  1.44304322e+00],\n",
       "       [ 1.00000000e+00,  2.48496878e+00, -5.04630188e-02],\n",
       "       [ 1.00000000e+00,  1.01939061e+01,  8.54456787e-01],\n",
       "       [ 1.00000000e+00,  5.75019372e+00,  3.68988950e+00],\n",
       "       [ 1.00000000e+00,  9.56275563e+00,  3.03034313e+00],\n",
       "       [ 1.00000000e+00,  5.42172385e+00,  1.91535994e+00],\n",
       "       [ 1.00000000e+00,  5.49952814e+00,  8.04319298e-01],\n",
       "       [ 1.00000000e+00,  3.46081171e+00,  1.64245341e+00],\n",
       "       [ 1.00000000e+00,  4.27960566e+00,  3.87580286e-01],\n",
       "       [ 1.00000000e+00,  7.58933927e+00,  1.48008979e+00],\n",
       "       [ 1.00000000e+00,  2.96302177e+00,  3.42281864e+00],\n",
       "       [ 1.00000000e+00,  6.45876193e+00,  2.76970357e+00],\n",
       "       [ 1.00000000e+00,  5.05640824e+00,  4.24292068e+00],\n",
       "       [ 1.00000000e+00,  4.14596046e+00,  1.13345282e+00],\n",
       "       [ 1.00000000e+00,  2.39218413e+00,  2.01717933e+00],\n",
       "       [ 1.00000000e+00,  5.87236482e+00,  2.97612016e-01],\n",
       "       [ 1.00000000e+00,  5.74820140e+00,  2.07606547e-01],\n",
       "       [ 1.00000000e+00,  7.27944787e+00,  1.29738884e+00],\n",
       "       [ 1.00000000e+00,  3.90360985e+00,  1.56116235e+00],\n",
       "       [ 1.00000000e+00,  9.42217315e+00,  4.48188939e+00],\n",
       "       [ 1.00000000e+00,  8.13412249e+00,  4.37828295e+00],\n",
       "       [ 1.00000000e+00,  4.81816142e+00,  3.22004193e+00],\n",
       "       [ 1.00000000e+00,  9.87823509e+00,  1.23941157e+00],\n",
       "       [ 1.00000000e+00,  2.89349685e+00,  4.73221420e+00],\n",
       "       [ 1.00000000e+00,  1.08259019e+01,  3.06903569e+00],\n",
       "       [ 1.00000000e+00,  4.96085522e+00,  2.85434986e+00],\n",
       "       [ 1.00000000e+00,  1.04193993e+01,  2.03784020e+00],\n",
       "       [ 1.00000000e+00,  9.48250845e+00,  2.18051814e+00],\n",
       "       [ 1.00000000e+00,  7.94553337e+00,  2.87047297e+00],\n",
       "       [ 1.00000000e+00,  6.57816389e+00,  2.14169275e+00],\n",
       "       [ 1.00000000e+00,  7.04151478e+00,  2.37801101e+00],\n",
       "       [ 1.00000000e+00,  1.58345296e+00,  1.02492871e+00],\n",
       "       [ 1.00000000e+00,  8.77864248e+00,  2.05343680e+00],\n",
       "       [ 1.00000000e+00,  7.17545796e+00,  2.60603610e+00],\n",
       "       [ 1.00000000e+00,  7.16311951e+00,  4.89966945e+00],\n",
       "       [ 1.00000000e+00,  1.09678485e+01,  3.51235424e+00],\n",
       "       [ 1.00000000e+00,  4.90708083e+00,  4.43902196e+00],\n",
       "       [ 1.00000000e+00,  1.03223274e+01,  4.29246393e+00],\n",
       "       [ 1.00000000e+00,  2.67453705e+00,  4.17441053e+00],\n",
       "       [ 1.00000000e+00,  8.64266606e+00,  4.60250214e+00],\n",
       "       [ 1.00000000e+00,  5.70809831e+00,  2.98491658e-01]])"
      ]
     },
     "execution_count": 151,
     "metadata": {},
     "output_type": "execute_result"
    }
   ],
   "source": [
    "sample_size = 100\n",
    "n_features = 2\n",
    "x_min = [1.5, -0.5]\n",
    "x_max = [11., 5.0]\n",
    "\n",
    "X = create_feature_matrix(sample_size, n_features, x_min, x_max)\n",
    "X = np.insert(X, 0, np.ones(100), axis=1)\n",
    "X"
   ]
  },
  {
   "cell_type": "code",
   "execution_count": 152,
   "metadata": {},
   "outputs": [
    {
     "ename": "AssertionError",
     "evalue": "",
     "output_type": "error",
     "traceback": [
      "\u001b[0;31m---------------------------------------------------------------------------\u001b[0m",
      "\u001b[0;31mAssertionError\u001b[0m                            Traceback (most recent call last)",
      "Cell \u001b[0;32mIn[152], line 2\u001b[0m\n\u001b[1;32m      1\u001b[0m \u001b[39massert\u001b[39;00m \u001b[39mlen\u001b[39m(X[:,\u001b[39m0\u001b[39m]) \u001b[39m==\u001b[39m sample_size\n\u001b[0;32m----> 2\u001b[0m \u001b[39massert\u001b[39;00m \u001b[39mlen\u001b[39m(X[\u001b[39m0\u001b[39m,:]) \u001b[39m==\u001b[39m n_features\n\u001b[1;32m      3\u001b[0m \u001b[39mfor\u001b[39;00m i \u001b[39min\u001b[39;00m \u001b[39mrange\u001b[39m(n_features):\n\u001b[1;32m      4\u001b[0m     \u001b[39massert\u001b[39;00m np\u001b[39m.\u001b[39mmax(X[:,i]) \u001b[39m<\u001b[39m\u001b[39m=\u001b[39m x_max[i]\n",
      "\u001b[0;31mAssertionError\u001b[0m: "
     ]
    }
   ],
   "source": [
    "assert len(X[:,0]) == sample_size\n",
    "assert len(X[0,:]) == n_features\n",
    "for i in range(n_features):\n",
    "    assert np.max(X[:,i]) <= x_max[i]\n",
    "    assert np.min(X[:,i]) >= x_min[i]"
   ]
  },
  {
   "cell_type": "markdown",
   "metadata": {
    "slideshow": {
     "slide_type": "-"
    }
   },
   "source": [
    "### Linear Hypothesis\n",
    "\n",
    "\n",
    "A short recap, a hypothesis $h_\\theta({\\bf x})$ is a certain function that we believe is similar to a target function that we like to model. A hypothesis $h_\\theta({\\bf x})$ is a function of ${\\bf x}$ with fixed parameters $\\Theta$. \n",
    "\n",
    "Here we have $n$ features ${\\bf x} = \\{x_1, \\ldots, x_n \\}$ and $n+1$ parameters $\\Theta = \\{\\theta_0, \\theta_1 \\ldots, \\theta_n \\}$:\n",
    "\n",
    "$$\n",
    "h_\\theta({\\bf x}) = \\theta_{0} + \\theta_{1} x_1 + \\ldots \\theta_n x_n \n",
    "$$\n",
    "\n",
    "adding an extra element to $\\vec x$ for convenience, this could also be rewritten as:\n",
    "\n",
    "$$\n",
    "h_\\theta({\\bf x}) = \\theta_{0} x_0 + \\theta_{1} x_1 + \\ldots \\theta_n x_n \n",
    "$$\n",
    "\n",
    "with $x_0 = 1$ for all feature vectors (training examples)."
   ]
  },
  {
   "cell_type": "markdown",
   "metadata": {},
   "source": [
    "Or treating ${\\bf x}$ and $\\Theta$ as vectors:\n",
    "\n",
    "$$\n",
    "h(\\vec x) = \\vec x'^T \\vec \\theta\n",
    "$$\n",
    "\n",
    "with:\n",
    "\n",
    "$$\n",
    "\\vec x = \\begin{pmatrix} \n",
    "x_1 & x_2 & \\ldots & x_n \\\\\n",
    "\\end{pmatrix}^T\n",
    "\\text{   and   }\n",
    "\\vec x' = \\begin{pmatrix} \n",
    "1 & x_1 & x_2 & \\ldots & x_n \\\\\n",
    "\\end{pmatrix}^T\n",
    "$$\n",
    "\n",
    "and\n",
    "\n",
    "$$\n",
    "\\vec \\theta = \\begin{pmatrix} \n",
    "\\theta_0 & \\theta_1 & \\ldots & \\theta_n \\\\\n",
    "\\end{pmatrix}^T\n",
    "$$\n",
    "\n",
    "Or for the whole data set at once: The rows in $X$ separate the different feature vectors, the columns contain the features. \n",
    "\n",
    "$$\n",
    "\\vec h_\\Theta(X) = X' \\cdot \\vec \\theta\n",
    "$$\n",
    "\n",
    "the vector $\\vec h(X) = \\left( h(\\vec x^{(1)}),h(\\vec x^{(2)}), \\dots, h(\\vec x^{(m)}) )\\right)^T$ contains all predictions for the data batch $X$.\n",
    "\n",
    "with:\n",
    "\n",
    "$$\n",
    "\\begin{align}\n",
    "X &= \\begin{pmatrix} \n",
    "x_1^{(1)} & \\ldots & x_n^{(1)} \\\\\n",
    "x_1^{(2)} & \\ldots & x_n^{(2)} \\\\\n",
    "\\vdots &\\vdots &\\vdots \\\\\n",
    "x_1^{(m)} & \\ldots & x_n^{(m)} \\\\\n",
    "\\end{pmatrix}\n",
    "&=\n",
    "\\begin{pmatrix} \n",
    "\\vec x^{(1)T} \\\\\n",
    "\\vec x^{(2)T}  \\\\\n",
    "\\vdots  \\\\\n",
    "\\vec x^{(m)T}  \\\\\n",
    "\\end{pmatrix}\n",
    "\\end{align}\n",
    "$$\n",
    "respectively\n",
    "$$\n",
    "\\begin{align}\n",
    "X' = \\begin{pmatrix} \n",
    "1 & x_1^{(1)} & \\ldots & x_n^{(1)} \\\\\n",
    "1 & x_1^{(2)} & \\ldots & x_n^{(2)} \\\\\n",
    "\\vdots &\\vdots &\\vdots &\\vdots \\\\\n",
    "1 & x_1^{(m)} & \\ldots & x_n^{(m)} \\\\\n",
    "\\end{pmatrix}\n",
    "&=\n",
    "\\begin{pmatrix} \n",
    "\\vec x'^{(1)T} \\\\\n",
    "\\vec x'^{(2)T}  \\\\\n",
    "\\vdots  \\\\\n",
    "\\vec x'^{(m)T}  \\\\\n",
    "\\end{pmatrix}\n",
    "\\end{align}\n",
    "$$"
   ]
  },
  {
   "cell_type": "markdown",
   "metadata": {},
   "source": [
    "**Task:**\n",
    "\n",
    "Implement hypothesis $\\vec h_\\Theta(X)$ in the method `linear_hypothesis` and return it as a function. Implement it the computationally efficient (**pythonic**) way by not using any loops and handling all data at once (use $X$ respectively $X'$).\n",
    "\n",
    "**Hint:**\n",
    "\n",
    "Of course you are free to implement as many helper functions as you like, e.g. for transforming $X$ to $X'$, though you do not have to. Up to you."
   ]
  },
  {
   "cell_type": "code",
   "execution_count": 153,
   "metadata": {
    "slideshow": {
     "slide_type": "-"
    }
   },
   "outputs": [],
   "source": [
    "def linear_hypothesis(thetas):\n",
    "    return lambda x: thetas * x"
   ]
  },
  {
   "cell_type": "code",
   "execution_count": 154,
   "metadata": {},
   "outputs": [],
   "source": [
    "assert len(linear_hypothesis([.1,.2,.3])(X)) == sample_size"
   ]
  },
  {
   "cell_type": "markdown",
   "metadata": {},
   "source": [
    "### Generate Target Values\n",
    "\n",
    "**Task:**\n",
    "\n",
    "Use your implemented `linear_hypothesis` inside the next function to generate some target values $Y$. Additionally add some Gaussian noise."
   ]
  },
  {
   "cell_type": "code",
   "execution_count": 155,
   "metadata": {
    "slideshow": {
     "slide_type": "-"
    }
   },
   "outputs": [],
   "source": [
    "def generate_targets(X, theta, sigma):\n",
    "\n",
    "    linHyp = linear_hypothesis(theta)(X)\n",
    "    noise = np.random.normal(np.mean(linHyp), sigma, linHyp.shape)\n",
    "    return linHyp + noise\n",
    "\n",
    "\n",
    "\n",
    "    linear_hypothesis(theta)(X)\n",
    "\n",
    "    ''' Combines given arguments in a linear equation with X, \n",
    "    adds some Gaussian noise and returns the result\n",
    "    \n",
    "    Args:\n",
    "        X: 2D numpy feature matrix\n",
    "        theta: list of coefficients\n",
    "        sigma: standard deviation of the gaussian noise\n",
    "        \n",
    "    Returns:\n",
    "        target values for X\n",
    "    '''\n",
    "    raise NotImplementedError(\"You should implement this!\")"
   ]
  },
  {
   "cell_type": "code",
   "execution_count": 161,
   "metadata": {},
   "outputs": [],
   "source": [
    "theta = (2., 3., -4.)\n",
    "sigma = 3.\n",
    "y = generate_targets(X, theta, sigma)"
   ]
  },
  {
   "cell_type": "code",
   "execution_count": 162,
   "metadata": {},
   "outputs": [],
   "source": [
    "assert len(y) == sample_size"
   ]
  },
  {
   "cell_type": "markdown",
   "metadata": {},
   "source": [
    "### Plot The Data\n",
    "\n",
    "**Task:**\n",
    "\n",
    "Plot the data $\\mathcal D = \\{((x^{(1)}_1,x^{(1)}_2)^T,y^{(1)}), \\ldots, ((x^{(n)}_1,x^{(n)}_2)^T,y^{(n)})\\}$ in a 3D scatter plot. The plot should look like the following:\n",
    "\n",
    "<img src=\"https://gitlab.com/deep.TEACHING/educational-materials/raw/dev/media/klaus/exercise-multivariate-linear-regression-scatter.png\" width=\"512\" alt=\"internet connection needed\">\n",
    "\n",
    "**Sidenote:**\n",
    "\n",
    "The command `%matplotlib notebook` (instead of `%matplotlib inline`) creates an interactive (e.g. rotatable) plot."
   ]
  },
  {
   "cell_type": "code",
   "execution_count": 158,
   "metadata": {
    "slideshow": {
     "slide_type": "-"
    }
   },
   "outputs": [],
   "source": [
    "%matplotlib inline\n",
    "\n",
    "def plot_data_scatter(features, targets):\n",
    "    fig = plt.figure()\n",
    "    ax = fig.add_subplot(111, projection='3d')\n",
    "    ax.scatter(features, targets, c=targets, alpha=1)\n",
    "    plt.show()"
   ]
  },
  {
   "cell_type": "code",
   "execution_count": 159,
   "metadata": {
    "scrolled": true
   },
   "outputs": [
    {
     "data": {
      "image/png": "[encoded data removed]",
      "text/plain": [
       "<Figure size 700x350 with 1 Axes>"
      ]
     },
     "metadata": {},
     "output_type": "display_data"
    }
   ],
   "source": [
    "plot_data_scatter(X, y)"
   ]
  },
  {
   "cell_type": "markdown",
   "metadata": {
    "slideshow": {
     "slide_type": "slide"
    }
   },
   "source": [
    "### Cost Function\n",
    "A cost function $J$ depends on the given training data $D$ and hypothesis $h_\\theta(\\vec x)$. In the context of the linear regression, the cost function measures how \"wrong\" a model is regarding its ability to estimate the relationship between $\\vec x$ and $y$ for specific $\\Theta$ values. Later we will treat this as an optimization problem and try to minimize the cost function $J_{\\mathcal D}(\\Theta)$ to find optimal $\\theta$ values for our hypothesis $h_\\theta(\\vec x)$. The cost function we use in this exercise is the [Mean-Squared-Error](https://en.wikipedia.org/wiki/Mean_squared_error) cost function:\n",
    "\n",
    "\\begin{equation}\n",
    "    J_{\\mathcal D}(\\Theta)=\\frac{1}{2m}\\sum_{i=1}^{m}{(h_\\Theta(\\vec x^{(i)})-y^{(i)})^2}\n",
    "\\end{equation}\n",
    "\n",
    "Implement the cost function $J_D(\\Theta)$ in the method `mse_cost_function`. The method should return a function that takes the values of $\\Theta$ as an argument.\n",
    "\n",
    "As a sidenote, the terms \"loss function\" or \"error function\" are often used interchangeably in the field of Machine Learning."
   ]
  },
  {
   "cell_type": "code",
   "execution_count": 171,
   "metadata": {
    "slideshow": {
     "slide_type": "-"
    }
   },
   "outputs": [],
   "source": [
    "def mse_cost_function(x, y):\n",
    "    return lambda theta : 1 / (2 * x.shape[0]) * np.sum(linear_hypothesis(theta)(x) - y)\n",
    "\n",
    "    ''' Implements MSE cost function as a function J(theta) on given traning data \n",
    "    \n",
    "    Args:\n",
    "        x: vector of x values \n",
    "        y: vector of ground truth values y \n",
    "        \n",
    "    Returns:\n",
    "        lambda J(theta) that models the cost function\n",
    "    '''\n",
    "    # raise NotImplementedError(\"You should implement this!\")"
   ]
  },
  {
   "cell_type": "markdown",
   "metadata": {},
   "source": [
    "Review the cell in which you generate the target values and note the theta values, which were used for it (If you haven't edited the default values, it should be `[2, 3, -4]`)\n",
    "\n",
    "**Optional:**\n",
    "\n",
    "Try a few different values for theta to pass to the cost function - Which thetas result in a low error and which produce a great error?"
   ]
  },
  {
   "cell_type": "code",
   "execution_count": 172,
   "metadata": {},
   "outputs": [
    {
     "name": "stdout",
     "output_type": "stream",
     "text": [
      "-5.881214614613182\n"
     ]
    }
   ],
   "source": [
    "J = mse_cost_function(X, y)\n",
    "print(J(theta))"
   ]
  },
  {
   "cell_type": "markdown",
   "metadata": {
    "slideshow": {
     "slide_type": "slide"
    }
   },
   "source": [
    "###  Gradient Descent\n",
    "\n",
    "A short recap, the gradient descent algorithm is a first-order iterative optimization for finding a minimum of a function. From the current position in a (cost) function, the algorithm steps proportional to the negative of the gradient and repeats this until it reaches a local or global minimum and determines. Stepping proportional means that it does not go entirely in the direction of the negative gradient, but scaled by a fixed value $\\alpha$ also called the learning rate. Implementing the following formalized update rule is the core of the optimization process:\n",
    "\n",
    "\\begin{equation}\n",
    "    \\theta_{j}^{new} \\leftarrow \\theta_{j}^{old} - \\alpha * \\frac{\\partial}{\\partial\\theta_{j}} J(\\vec \\theta^{old})\n",
    "\\end{equation}\n",
    "\n",
    "**Task:**\n",
    "\n",
    "Implement the function to update all theta values."
   ]
  },
  {
   "cell_type": "code",
   "execution_count": null,
   "metadata": {
    "slideshow": {
     "slide_type": "-"
    }
   },
   "outputs": [],
   "source": [
    "def update_theta(x, y, theta, learning_rate):\n",
    "    ''' Updates learnable parameters theta \n",
    "    \n",
    "    The update is done by calculating the partial derivities of \n",
    "    the cost function including the linear hypothesis. The \n",
    "    gradients scaled by a scalar are subtracted from the given \n",
    "    theta values.\n",
    "    \n",
    "    Args:\n",
    "        x: 2D numpy array of x values\n",
    "        y: array of y values corresponding to x\n",
    "        theta: current theta values\n",
    "        learning_rate: value to scale the negative gradient \n",
    "        \n",
    "    Returns:\n",
    "        theta: Updated theta vector\n",
    "    '''\n",
    "    raise NotImplementedError(\"You should implement this!\")"
   ]
  },
  {
   "cell_type": "markdown",
   "metadata": {
    "slideshow": {
     "slide_type": "-"
    }
   },
   "source": [
    "Using the `update_theta` method, you can now implement the gradient descent algorithm. Iterate over the update rule to find the values for $\\vec \\theta$ that minimize our cost function $J_D(\\vec \\theta)$. This process is often called training of a machine learning model. \n",
    "\n",
    "**Task:**\n",
    "- Implement the function for the gradient descent.\n",
    "- Create a history of all theta and cost values and return them."
   ]
  },
  {
   "cell_type": "code",
   "execution_count": null,
   "metadata": {
    "slideshow": {
     "slide_type": "-"
    }
   },
   "outputs": [],
   "source": [
    "def gradient_descent(learning_rate, theta, iterations, x, y, cost_function):\n",
    "    ''' Minimize theta values of a linear model based on MSE cost function\n",
    "    \n",
    "    Args:\n",
    "        learning_rate: scalar, scales the negative gradient \n",
    "        theta: initial theta values\n",
    "        x: vector, x values from the data set\n",
    "        y: vector, y values from the data set\n",
    "        iterations: scalar, number of theta updates\n",
    "        cost_function: python function for computing the cost\n",
    "        \n",
    "    Returns:\n",
    "        history_cost: cost after each iteration\n",
    "        history_theta: Updated theta values after each iteration\n",
    "    '''\n",
    "    raise NotImplementedError(\"You should implement this!\")"
   ]
  },
  {
   "cell_type": "markdown",
   "metadata": {},
   "source": [
    "### Training and Evaluation\n",
    "\n",
    "**Task:**\n",
    "\n",
    "Choose an appropriate learning rate, number of iterations and initial theta values and start the training"
   ]
  },
  {
   "cell_type": "code",
   "execution_count": null,
   "metadata": {},
   "outputs": [],
   "source": [
    "# Your implementation:\n",
    "\n",
    "alpha = 42.42 # assign an appropriate value\n",
    "nb_iterations = 1337 # assign an appropriate value\n",
    "start_values_theta = [42., 42., 42.] # assign appropriate values\n",
    "history_cost, history_theta = gradient_descent(alpha, start_values_theta, nb_iterations, X, y,  mse_cost_function)"
   ]
  },
  {
   "cell_type": "markdown",
   "metadata": {},
   "source": [
    "Now that the training has finished we can visualize our results.\n",
    "\n",
    "**Task:**\n",
    "\n",
    "Plot the costs over the iterations. If you have used `fig = plt.figure()` and `ax = fig.add_subplot(111)` in the last plot, use it again here, else the plot will be added to the last plot instead of a new one.\n",
    "\n",
    "Your plot should look similar to this one:\n",
    "\n",
    "<img src=\"https://gitlab.com/deep.TEACHING/educational-materials/raw/dev/media/klaus/exercise-multivariate-linear-regression-costs.png\" width=\"512\" alt=\"internet connection needed\">"
   ]
  },
  {
   "cell_type": "code",
   "execution_count": null,
   "metadata": {
    "slideshow": {
     "slide_type": "-"
    }
   },
   "outputs": [],
   "source": [
    "def plot_progress(costs):\n",
    "    \"\"\" Plots the costs over the iterations\n",
    "    \n",
    "    Args:\n",
    "        costs: history of costs\n",
    "    \"\"\"\n",
    "    raise NotImplementedError(\"You should implement this!\")"
   ]
  },
  {
   "cell_type": "code",
   "execution_count": null,
   "metadata": {},
   "outputs": [],
   "source": [
    "plot_progress(history_cost)\n",
    "print(\"costs before the training:\\t \", history_cost[0])\n",
    "print(\"costs after the training:\\t \", history_cost[-1])"
   ]
  },
  {
   "cell_type": "markdown",
   "metadata": {},
   "source": [
    "**Task:**\n",
    "\n",
    "Finally plot the decision hyperplane (just a plain plane here though) together with the data in a 3D plot.\n",
    "\n",
    "Your plot should look similar to this one:\n",
    "\n",
    "<img src=\"https://gitlab.com/deep.TEACHING/educational-materials/raw/dev/media/klaus/exercise-multivariate-linear-regression-scatter_and_boundary.png\" width=\"512\" alt=\"internet connection needed\">"
   ]
  },
  {
   "cell_type": "code",
   "execution_count": null,
   "metadata": {
    "slideshow": {
     "slide_type": "-"
    }
   },
   "outputs": [],
   "source": [
    "def evaluation_plt(x, y, final_theta):\n",
    "    ''' Plots the data x, y together with the final model\n",
    "    \n",
    "    Args:\n",
    "        x: numpy arrays, x values from the data set\n",
    "        y: vector, y values from the data set\n",
    "        final_theta: numpy array\n",
    "    '''\n",
    "    raise NotImplementedError(\"You should implement this!\")"
   ]
  },
  {
   "cell_type": "code",
   "execution_count": null,
   "metadata": {},
   "outputs": [],
   "source": [
    "\n",
    "evaluation_plt(X, y, history_theta[-1])\n",
    "print(\"thetas before the training:\\t\", history_theta[0])\n",
    "print(\"thetas after the training:\\t\", history_theta[-1])"
   ]
  },
  {
   "cell_type": "markdown",
   "metadata": {},
   "source": [
    "### Feature Scaling\n",
    "\n",
    "Now suppose the following features $X$:"
   ]
  },
  {
   "cell_type": "code",
   "execution_count": null,
   "metadata": {},
   "outputs": [],
   "source": [
    "X = np.array([[0.0001, 2000],\n",
    "       [0.0002, 1800],\n",
    "       [0.0003, 1600]], dtype=np.float32)\n",
    "\n",
    "sample_size = len(X[:,0])\n",
    "print(X)"
   ]
  },
  {
   "cell_type": "markdown",
   "metadata": {},
   "source": [
    "**Task:**\n",
    "\n",
    "This task can be done via **pen & paper** or by inserting some code below. Either way, you should be able to solve both tasks below on paper only using a calculator.\n",
    "\n",
    "1. Apply feature scaling onto `X` using the *mean* and the *standard deviation*. What values do the scaled features have?\n",
    "    * *Optional:*\n",
    "\n",
    "        You can even execute the cell above and start running your notebook again from top (all **except** executing the cell to generate your features, which would overwrite these new features).\n",
    "\n",
    "        When you start training you should notice that your costs do not decrease, maybe even increase, if you have not adjusted your learning rate (training might also throw an overflow warning)."
   ]
  },
  {
   "cell_type": "markdown",
   "metadata": {},
   "source": [
    "**Task:**\n",
    "\n",
    "2. After the training with scaled features your new $\\vec \\theta'$ values will something like: $\\vec \\theta'=\\left(-7197,  326, -326\\right)^T$ (you can try training with but you do not have to). \n",
    "\n",
    "    Suppose $\\vec \\theta'=\\left(-7197,  326, -326\\right)^T$. What are the corresponding $\\theta_j$ values for the unscaled data?\n",
    "\n",
    "    * (If you did train your model with the scaled features, the resulting $\\theta_j$ should really be $\\vec \\theta'=\\left(-7197,  326, -326\\right)^T$"
   ]
  },
  {
   "cell_type": "markdown",
   "metadata": {
    "slideshow": {
     "slide_type": "slide"
    }
   },
   "source": [
    "## Summary and Outlook\n",
    "\n",
    "During this exercise, the linear regression was extended to multidimensional feature space and feature scaling was practiced. You should be able to answer the following questions:\n",
    "- How does the implementation of the multivariate regression differ from the univariate one?\n",
    "- Why do we apply feature scaling?\n",
    "- Why does feature scaling help?"
   ]
  },
  {
   "cell_type": "markdown",
   "metadata": {
    "slideshow": {
     "slide_type": "-"
    }
   },
   "source": [
    "## Licenses\n",
    "\n",
    "### Notebook License (CC-BY-SA 4.0)\n",
    "\n",
    "*The following license applies to the complete notebook, including code cells. It does however not apply to any referenced external media (e.g., images).*\n",
    "\n",
    "Exercise: Multivariate Linear Regression <br/>\n",
    "by Christian Herta, Klaus Strohmenger<br/>\n",
    "is licensed under a [Creative Commons Attribution-ShareAlike 4.0 International License](http://creativecommons.org/licenses/by-sa/4.0/).<br/>\n",
    "Based on a work at https://gitlab.com/deep.TEACHING.\n",
    "\n",
    "\n",
    "### Code License (MIT)\n",
    "\n",
    "*The following license only applies to code cells of the notebook.*\n",
    "\n",
    "Copyright 2018 Christian Herta, Klaus Strohmenger\n",
    "\n",
    "Permission is hereby granted, free of charge, to any person obtaining a copy of this software and associated documentation files (the \"Software\"), to deal in the Software without restriction, including without limitation the rights to use, copy, modify, merge, publish, distribute, sublicense, and/or sell copies of the Software, and to permit persons to whom the Software is furnished to do so, subject to the following conditions:\n",
    "\n",
    "The above copyright notice and this permission notice shall be included in all copies or substantial portions of the Software.\n",
    "\n",
    "THE SOFTWARE IS PROVIDED \"AS IS\", WITHOUT WARRANTY OF ANY KIND, EXPRESS OR IMPLIED, INCLUDING BUT NOT LIMITED TO THE WARRANTIES OF MERCHANTABILITY, FITNESS FOR A PARTICULAR PURPOSE AND NONINFRINGEMENT. IN NO EVENT SHALL THE AUTHORS OR COPYRIGHT HOLDERS BE LIABLE FOR ANY CLAIM, DAMAGES OR OTHER LIABILITY, WHETHER IN AN ACTION OF CONTRACT, TORT OR OTHERWISE, ARISING FROM, OUT OF OR IN CONNECTION WITH THE SOFTWARE OR THE USE OR OTHER DEALINGS IN THE SOFTWARE."
   ]
  }
 ],
 "metadata": {
  "celltoolbar": "Slideshow",
  "kernelspec": {
   "display_name": "Python 3 (ipykernel)",
   "language": "python",
   "name": "python3"
  },
  "language_info": {
   "codemirror_mode": {
    "name": "ipython",
    "version": 3
   },
   "file_extension": ".py",
   "mimetype": "text/x-python",
   "name": "python",
   "nbconvert_exporter": "python",
   "pygments_lexer": "ipython3",
   "version": "3.11.3"
  }
 },
 "nbformat": 4,
 "nbformat_minor": 2
}
